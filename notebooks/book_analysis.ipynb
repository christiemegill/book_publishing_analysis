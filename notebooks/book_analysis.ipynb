{
 "cells": [
  {
   "cell_type": "code",
   "execution_count": 1,
   "metadata": {},
   "outputs": [],
   "source": [
    "# First cell (code cell):\n",
    "import sys\n",
    "sys.path.append('../')\n",
    "\n",
    "from src.data_collection import ModernEnglishBookCollector\n",
    "import pandas as pd\n",
    "import matplotlib.pyplot as plt\n",
    "import seaborn as sns"
   ]
  },
  {
   "cell_type": "code",
   "execution_count": 3,
   "metadata": {},
   "outputs": [
    {
     "name": "stderr",
     "output_type": "stream",
     "text": [
      "Collecting books: 100%|██████████| 10000/10000 [06:12<00:00, 26.82it/s]"
     ]
    },
    {
     "name": "stdout",
     "output_type": "stream",
     "text": [
      "\n",
      "Dataset Overview:\n",
      "Total books collected: 10000\n",
      "\n",
      "Columns: ['title', 'author_name', 'first_publish_year', 'subject', 'cover_i', 'subject_count', 'decade']\n",
      "\n",
      "Sample of first few rows:\n"
     ]
    },
    {
     "name": "stderr",
     "output_type": "stream",
     "text": [
      "\n"
     ]
    },
    {
     "data": {
      "text/html": [
       "<div>\n",
       "<style scoped>\n",
       "    .dataframe tbody tr th:only-of-type {\n",
       "        vertical-align: middle;\n",
       "    }\n",
       "\n",
       "    .dataframe tbody tr th {\n",
       "        vertical-align: top;\n",
       "    }\n",
       "\n",
       "    .dataframe thead th {\n",
       "        text-align: right;\n",
       "    }\n",
       "</style>\n",
       "<table border=\"1\" class=\"dataframe\">\n",
       "  <thead>\n",
       "    <tr style=\"text-align: right;\">\n",
       "      <th></th>\n",
       "      <th>title</th>\n",
       "      <th>author_name</th>\n",
       "      <th>first_publish_year</th>\n",
       "      <th>subject</th>\n",
       "      <th>cover_i</th>\n",
       "      <th>subject_count</th>\n",
       "      <th>decade</th>\n",
       "    </tr>\n",
       "  </thead>\n",
       "  <tbody>\n",
       "    <tr>\n",
       "      <th>0</th>\n",
       "      <td>Butterflies and Moths</td>\n",
       "      <td>Dorothy Hinshaw Patent</td>\n",
       "      <td>1979</td>\n",
       "      <td>[Lepidoptera, Butterflies, Juvenile literature...</td>\n",
       "      <td>6924805.0</td>\n",
       "      <td>4</td>\n",
       "      <td>1970</td>\n",
       "    </tr>\n",
       "    <tr>\n",
       "      <th>1</th>\n",
       "      <td>\"The work of the Committee of the institution ...</td>\n",
       "      <td>Stephen Mitchell Dixon</td>\n",
       "      <td>1930</td>\n",
       "      <td>[Concrete, Seawater, Wood, Preservation, Corro...</td>\n",
       "      <td>NaN</td>\n",
       "      <td>6</td>\n",
       "      <td>1930</td>\n",
       "    </tr>\n",
       "    <tr>\n",
       "      <th>2</th>\n",
       "      <td>Garbage--the crisis of the 80's</td>\n",
       "      <td>California Solid Waste Management Board. Offic...</td>\n",
       "      <td>1982</td>\n",
       "      <td>[Refuse and refuse disposal, Sanitary landfills]</td>\n",
       "      <td>NaN</td>\n",
       "      <td>2</td>\n",
       "      <td>1980</td>\n",
       "    </tr>\n",
       "    <tr>\n",
       "      <th>3</th>\n",
       "      <td>Preston Lee's 2-In-1 Book Series! Beginner Eng...</td>\n",
       "      <td>Matthew Preston</td>\n",
       "      <td>2020</td>\n",
       "      <td>[]</td>\n",
       "      <td>NaN</td>\n",
       "      <td>0</td>\n",
       "      <td>2020</td>\n",
       "    </tr>\n",
       "    <tr>\n",
       "      <th>4</th>\n",
       "      <td>.</td>\n",
       "      <td></td>\n",
       "      <td>1992</td>\n",
       "      <td>[]</td>\n",
       "      <td>10248432.0</td>\n",
       "      <td>0</td>\n",
       "      <td>1990</td>\n",
       "    </tr>\n",
       "  </tbody>\n",
       "</table>\n",
       "</div>"
      ],
      "text/plain": [
       "                                               title  \\\n",
       "0                              Butterflies and Moths   \n",
       "1  \"The work of the Committee of the institution ...   \n",
       "2                    Garbage--the crisis of the 80's   \n",
       "3  Preston Lee's 2-In-1 Book Series! Beginner Eng...   \n",
       "4                                                  .   \n",
       "\n",
       "                                         author_name  first_publish_year  \\\n",
       "0                             Dorothy Hinshaw Patent                1979   \n",
       "1                             Stephen Mitchell Dixon                1930   \n",
       "2  California Solid Waste Management Board. Offic...                1982   \n",
       "3                                    Matthew Preston                2020   \n",
       "4                                                                   1992   \n",
       "\n",
       "                                             subject     cover_i  \\\n",
       "0  [Lepidoptera, Butterflies, Juvenile literature...   6924805.0   \n",
       "1  [Concrete, Seawater, Wood, Preservation, Corro...         NaN   \n",
       "2   [Refuse and refuse disposal, Sanitary landfills]         NaN   \n",
       "3                                                 []         NaN   \n",
       "4                                                 []  10248432.0   \n",
       "\n",
       "   subject_count  decade  \n",
       "0              4    1970  \n",
       "1              6    1930  \n",
       "2              2    1980  \n",
       "3              0    2020  \n",
       "4              0    1990  "
      ]
     },
     "metadata": {},
     "output_type": "display_data"
    }
   ],
   "source": [
    "# In your notebook code cell:\n",
    "# Initialize collector\n",
    "collector = ModernEnglishBookCollector()\n",
    "\n",
    "# Collect data\n",
    "books_list = collector.collect_data()\n",
    "\n",
    "# Convert to DataFrame\n",
    "df = pd.DataFrame(books_list)\n",
    "\n",
    "# Save the collected data\n",
    "df.to_csv('../data/modern_english_books.csv', index=False)\n",
    "\n",
    "# Print basic info about the dataset\n",
    "print(\"\\nDataset Overview:\")\n",
    "print(f\"Total books collected: {len(df)}\")\n",
    "print(\"\\nColumns:\", df.columns.tolist())\n",
    "print(\"\\nSample of first few rows:\")\n",
    "display(df.head())"
   ]
  },
  {
   "cell_type": "code",
   "execution_count": null,
   "metadata": {},
   "outputs": [],
   "source": []
  }
 ],
 "metadata": {
  "kernelspec": {
   "display_name": "base",
   "language": "python",
   "name": "python3"
  },
  "language_info": {
   "codemirror_mode": {
    "name": "ipython",
    "version": 3
   },
   "file_extension": ".py",
   "mimetype": "text/x-python",
   "name": "python",
   "nbconvert_exporter": "python",
   "pygments_lexer": "ipython3",
   "version": "3.11.7"
  }
 },
 "nbformat": 4,
 "nbformat_minor": 2
}
